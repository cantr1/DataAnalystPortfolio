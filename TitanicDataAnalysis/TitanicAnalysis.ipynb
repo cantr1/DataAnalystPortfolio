{
 "cells": [
  {
   "cell_type": "markdown",
   "id": "e8a6efbd-8b18-43f4-a006-0c6c16b314f0",
   "metadata": {},
   "source": [
    "# Titanic Data Analysis"
   ]
  },
  {
   "cell_type": "markdown",
   "id": "57d87c84-5257-4b70-b3ec-857e2f0b6982",
   "metadata": {},
   "source": [
    "## Overview\n",
    "\n",
    "The sinking of the RMS Titanic is one of the most infamous shipwrecks in history. On her maiden voyage, she carried thousands of passengers and crew, and the tragedy that befell her has since been a tale of both human error and heroism. This project aims to delve into the microcosm of society aboard the Titanic before its untimely demise. We will employ data analysis and machine learning techniques to uncover patterns and stories that lie within the data—focusing on the demographics of the passengers, the survival rates, and the factors that might have influenced the chances of survival.\n",
    "\n",
    "### Objectives:\n",
    "The primary objectives of this analysis are to:\n",
    "\n",
    "    Understand the composition of passengers aboard the Titanic, including their age, sex, socio-economic status, and other relevant demographics.\n",
    "    Explore the factors that contributed to the survival of certain passengers while others did not survive.\n",
    "    Build a predictive model using machine learning to estimate a passenger's likelihood of survival based on their characteristics.\n",
    "\n",
    "### Methodology:\n",
    "\n",
    "We will first perform an exploratory data analysis (EDA) to visualize and understand the underlying distribution and relationships within the data. This step includes cleaning the data, handling missing values, and creating informative visualizations. Following EDA, we will apply the Random Forest Classifier, a machine learning algorithm, to predict survival outcomes. We will also tune this model to improve its predictive accuracy.\n",
    "\n",
    "### Significance:\n",
    "\n",
    "This project not only serves as a historical analysis but also as a methodological showcase of the power of data science. By interpreting the data through visual and statistical lenses, we can gain insights into the social dynamics of the early 20th century and the human factors in maritime disasters. Additionally, the project will demonstrate the application of data preprocessing, EDA, and machine learning in a real-world context, reflecting the practical skills expected of a junior data analyst."
   ]
  },
  {
   "cell_type": "markdown",
   "id": "872aab47-04ee-4779-aa20-e4d0c9944040",
   "metadata": {},
   "source": [
    "## Initialization"
   ]
  },
  {
   "cell_type": "code",
   "execution_count": 48,
   "id": "051d2b2b-4ee0-45d9-8822-085c2eefa068",
   "metadata": {},
   "outputs": [
    {
     "data": {
      "text/html": [
       "<div>\n",
       "<style scoped>\n",
       "    .dataframe tbody tr th:only-of-type {\n",
       "        vertical-align: middle;\n",
       "    }\n",
       "\n",
       "    .dataframe tbody tr th {\n",
       "        vertical-align: top;\n",
       "    }\n",
       "\n",
       "    .dataframe thead th {\n",
       "        text-align: right;\n",
       "    }\n",
       "</style>\n",
       "<table border=\"1\" class=\"dataframe\">\n",
       "  <thead>\n",
       "    <tr style=\"text-align: right;\">\n",
       "      <th></th>\n",
       "      <th>survived</th>\n",
       "      <th>pclass</th>\n",
       "      <th>sex</th>\n",
       "      <th>age</th>\n",
       "      <th>sibsp</th>\n",
       "      <th>parch</th>\n",
       "      <th>fare</th>\n",
       "      <th>embarked</th>\n",
       "      <th>class</th>\n",
       "      <th>who</th>\n",
       "      <th>adult_male</th>\n",
       "      <th>deck</th>\n",
       "      <th>embark_town</th>\n",
       "      <th>alive</th>\n",
       "      <th>alone</th>\n",
       "    </tr>\n",
       "  </thead>\n",
       "  <tbody>\n",
       "    <tr>\n",
       "      <th>0</th>\n",
       "      <td>0</td>\n",
       "      <td>3</td>\n",
       "      <td>male</td>\n",
       "      <td>22.0</td>\n",
       "      <td>1</td>\n",
       "      <td>0</td>\n",
       "      <td>7.2500</td>\n",
       "      <td>S</td>\n",
       "      <td>Third</td>\n",
       "      <td>man</td>\n",
       "      <td>True</td>\n",
       "      <td>NaN</td>\n",
       "      <td>Southampton</td>\n",
       "      <td>no</td>\n",
       "      <td>False</td>\n",
       "    </tr>\n",
       "    <tr>\n",
       "      <th>1</th>\n",
       "      <td>1</td>\n",
       "      <td>1</td>\n",
       "      <td>female</td>\n",
       "      <td>38.0</td>\n",
       "      <td>1</td>\n",
       "      <td>0</td>\n",
       "      <td>71.2833</td>\n",
       "      <td>C</td>\n",
       "      <td>First</td>\n",
       "      <td>woman</td>\n",
       "      <td>False</td>\n",
       "      <td>C</td>\n",
       "      <td>Cherbourg</td>\n",
       "      <td>yes</td>\n",
       "      <td>False</td>\n",
       "    </tr>\n",
       "    <tr>\n",
       "      <th>2</th>\n",
       "      <td>1</td>\n",
       "      <td>3</td>\n",
       "      <td>female</td>\n",
       "      <td>26.0</td>\n",
       "      <td>0</td>\n",
       "      <td>0</td>\n",
       "      <td>7.9250</td>\n",
       "      <td>S</td>\n",
       "      <td>Third</td>\n",
       "      <td>woman</td>\n",
       "      <td>False</td>\n",
       "      <td>NaN</td>\n",
       "      <td>Southampton</td>\n",
       "      <td>yes</td>\n",
       "      <td>True</td>\n",
       "    </tr>\n",
       "    <tr>\n",
       "      <th>3</th>\n",
       "      <td>1</td>\n",
       "      <td>1</td>\n",
       "      <td>female</td>\n",
       "      <td>35.0</td>\n",
       "      <td>1</td>\n",
       "      <td>0</td>\n",
       "      <td>53.1000</td>\n",
       "      <td>S</td>\n",
       "      <td>First</td>\n",
       "      <td>woman</td>\n",
       "      <td>False</td>\n",
       "      <td>C</td>\n",
       "      <td>Southampton</td>\n",
       "      <td>yes</td>\n",
       "      <td>False</td>\n",
       "    </tr>\n",
       "    <tr>\n",
       "      <th>4</th>\n",
       "      <td>0</td>\n",
       "      <td>3</td>\n",
       "      <td>male</td>\n",
       "      <td>35.0</td>\n",
       "      <td>0</td>\n",
       "      <td>0</td>\n",
       "      <td>8.0500</td>\n",
       "      <td>S</td>\n",
       "      <td>Third</td>\n",
       "      <td>man</td>\n",
       "      <td>True</td>\n",
       "      <td>NaN</td>\n",
       "      <td>Southampton</td>\n",
       "      <td>no</td>\n",
       "      <td>True</td>\n",
       "    </tr>\n",
       "  </tbody>\n",
       "</table>\n",
       "</div>"
      ],
      "text/plain": [
       "   survived  pclass     sex   age  sibsp  parch     fare embarked  class  \\\n",
       "0         0       3    male  22.0      1      0   7.2500        S  Third   \n",
       "1         1       1  female  38.0      1      0  71.2833        C  First   \n",
       "2         1       3  female  26.0      0      0   7.9250        S  Third   \n",
       "3         1       1  female  35.0      1      0  53.1000        S  First   \n",
       "4         0       3    male  35.0      0      0   8.0500        S  Third   \n",
       "\n",
       "     who  adult_male deck  embark_town alive  alone  \n",
       "0    man        True  NaN  Southampton    no  False  \n",
       "1  woman       False    C    Cherbourg   yes  False  \n",
       "2  woman       False  NaN  Southampton   yes   True  \n",
       "3  woman       False    C  Southampton   yes  False  \n",
       "4    man        True  NaN  Southampton    no   True  "
      ]
     },
     "execution_count": 48,
     "metadata": {},
     "output_type": "execute_result"
    }
   ],
   "source": [
    "# Import Libraries\n",
    "import matplotlib.pyplot as plt\n",
    "import numpy as np\n",
    "import pandas as pd\n",
    "import seaborn as sns\n",
    "\n",
    "# Set Style\n",
    "%matplotlib inline\n",
    "sns.set_style('darkgrid')\n",
    "\n",
    "\n",
    "# Import Data and Create Data Frame\n",
    "df = sns.load_dataset('titanic')\n",
    "\n",
    "# View Head of Data Frame\n",
    "df.head(5)"
   ]
  },
  {
   "cell_type": "code",
   "execution_count": 2,
   "id": "26f3fb50-5ce8-498a-9618-1ddf4129dcc8",
   "metadata": {},
   "outputs": [
    {
     "name": "stdout",
     "output_type": "stream",
     "text": [
      "<class 'pandas.core.frame.DataFrame'>\n",
      "RangeIndex: 891 entries, 0 to 890\n",
      "Data columns (total 15 columns):\n",
      " #   Column       Non-Null Count  Dtype   \n",
      "---  ------       --------------  -----   \n",
      " 0   survived     891 non-null    int64   \n",
      " 1   pclass       891 non-null    int64   \n",
      " 2   sex          891 non-null    object  \n",
      " 3   age          714 non-null    float64 \n",
      " 4   sibsp        891 non-null    int64   \n",
      " 5   parch        891 non-null    int64   \n",
      " 6   fare         891 non-null    float64 \n",
      " 7   embarked     889 non-null    object  \n",
      " 8   class        891 non-null    category\n",
      " 9   who          891 non-null    object  \n",
      " 10  adult_male   891 non-null    bool    \n",
      " 11  deck         203 non-null    category\n",
      " 12  embark_town  889 non-null    object  \n",
      " 13  alive        891 non-null    object  \n",
      " 14  alone        891 non-null    bool    \n",
      "dtypes: bool(2), category(2), float64(2), int64(4), object(5)\n",
      "memory usage: 80.7+ KB\n"
     ]
    }
   ],
   "source": [
    "# View data types of each column and returns counts of columns with data \n",
    "df.info()"
   ]
  },
  {
   "cell_type": "code",
   "execution_count": 49,
   "id": "486671bc-046c-4cb9-9cc4-20ecbf1464ec",
   "metadata": {},
   "outputs": [],
   "source": [
    "# Drop the 'deck' column due to a lack of information\n",
    "df = df.drop(['deck'], axis=1)"
   ]
  },
  {
   "cell_type": "code",
   "execution_count": 50,
   "id": "f22dc260-b399-41b4-ad12-d5a611852d52",
   "metadata": {},
   "outputs": [],
   "source": [
    "# Fill missing age values with the median age\n",
    "df['age'] = df['age'].fillna(df['age'].median())"
   ]
  },
  {
   "cell_type": "code",
   "execution_count": 51,
   "id": "36f00cf3-eba6-40f5-bad7-c0456859ed20",
   "metadata": {},
   "outputs": [],
   "source": [
    "# Remove all other null values and reset the index\n",
    "df = df.dropna().reset_index(drop=True)"
   ]
  },
  {
   "cell_type": "code",
   "execution_count": 52,
   "id": "fe869d8c-cb3d-414c-8c8d-663a280311eb",
   "metadata": {},
   "outputs": [
    {
     "data": {
      "text/html": [
       "<div>\n",
       "<style scoped>\n",
       "    .dataframe tbody tr th:only-of-type {\n",
       "        vertical-align: middle;\n",
       "    }\n",
       "\n",
       "    .dataframe tbody tr th {\n",
       "        vertical-align: top;\n",
       "    }\n",
       "\n",
       "    .dataframe thead th {\n",
       "        text-align: right;\n",
       "    }\n",
       "</style>\n",
       "<table border=\"1\" class=\"dataframe\">\n",
       "  <thead>\n",
       "    <tr style=\"text-align: right;\">\n",
       "      <th></th>\n",
       "      <th>survived</th>\n",
       "      <th>pclass</th>\n",
       "      <th>sex</th>\n",
       "      <th>age</th>\n",
       "      <th>sibsp</th>\n",
       "      <th>parch</th>\n",
       "      <th>fare</th>\n",
       "      <th>embarked</th>\n",
       "      <th>class</th>\n",
       "      <th>who</th>\n",
       "      <th>adult_male</th>\n",
       "      <th>embark_town</th>\n",
       "      <th>alive</th>\n",
       "      <th>alone</th>\n",
       "    </tr>\n",
       "  </thead>\n",
       "  <tbody>\n",
       "    <tr>\n",
       "      <th>0</th>\n",
       "      <td>0</td>\n",
       "      <td>3</td>\n",
       "      <td>male</td>\n",
       "      <td>22.0</td>\n",
       "      <td>1</td>\n",
       "      <td>0</td>\n",
       "      <td>7.2500</td>\n",
       "      <td>S</td>\n",
       "      <td>Third</td>\n",
       "      <td>man</td>\n",
       "      <td>True</td>\n",
       "      <td>Southampton</td>\n",
       "      <td>no</td>\n",
       "      <td>False</td>\n",
       "    </tr>\n",
       "    <tr>\n",
       "      <th>1</th>\n",
       "      <td>1</td>\n",
       "      <td>1</td>\n",
       "      <td>female</td>\n",
       "      <td>38.0</td>\n",
       "      <td>1</td>\n",
       "      <td>0</td>\n",
       "      <td>71.2833</td>\n",
       "      <td>C</td>\n",
       "      <td>First</td>\n",
       "      <td>woman</td>\n",
       "      <td>False</td>\n",
       "      <td>Cherbourg</td>\n",
       "      <td>yes</td>\n",
       "      <td>False</td>\n",
       "    </tr>\n",
       "    <tr>\n",
       "      <th>2</th>\n",
       "      <td>1</td>\n",
       "      <td>3</td>\n",
       "      <td>female</td>\n",
       "      <td>26.0</td>\n",
       "      <td>0</td>\n",
       "      <td>0</td>\n",
       "      <td>7.9250</td>\n",
       "      <td>S</td>\n",
       "      <td>Third</td>\n",
       "      <td>woman</td>\n",
       "      <td>False</td>\n",
       "      <td>Southampton</td>\n",
       "      <td>yes</td>\n",
       "      <td>True</td>\n",
       "    </tr>\n",
       "    <tr>\n",
       "      <th>3</th>\n",
       "      <td>1</td>\n",
       "      <td>1</td>\n",
       "      <td>female</td>\n",
       "      <td>35.0</td>\n",
       "      <td>1</td>\n",
       "      <td>0</td>\n",
       "      <td>53.1000</td>\n",
       "      <td>S</td>\n",
       "      <td>First</td>\n",
       "      <td>woman</td>\n",
       "      <td>False</td>\n",
       "      <td>Southampton</td>\n",
       "      <td>yes</td>\n",
       "      <td>False</td>\n",
       "    </tr>\n",
       "    <tr>\n",
       "      <th>4</th>\n",
       "      <td>0</td>\n",
       "      <td>3</td>\n",
       "      <td>male</td>\n",
       "      <td>35.0</td>\n",
       "      <td>0</td>\n",
       "      <td>0</td>\n",
       "      <td>8.0500</td>\n",
       "      <td>S</td>\n",
       "      <td>Third</td>\n",
       "      <td>man</td>\n",
       "      <td>True</td>\n",
       "      <td>Southampton</td>\n",
       "      <td>no</td>\n",
       "      <td>True</td>\n",
       "    </tr>\n",
       "    <tr>\n",
       "      <th>...</th>\n",
       "      <td>...</td>\n",
       "      <td>...</td>\n",
       "      <td>...</td>\n",
       "      <td>...</td>\n",
       "      <td>...</td>\n",
       "      <td>...</td>\n",
       "      <td>...</td>\n",
       "      <td>...</td>\n",
       "      <td>...</td>\n",
       "      <td>...</td>\n",
       "      <td>...</td>\n",
       "      <td>...</td>\n",
       "      <td>...</td>\n",
       "      <td>...</td>\n",
       "    </tr>\n",
       "    <tr>\n",
       "      <th>884</th>\n",
       "      <td>0</td>\n",
       "      <td>2</td>\n",
       "      <td>male</td>\n",
       "      <td>27.0</td>\n",
       "      <td>0</td>\n",
       "      <td>0</td>\n",
       "      <td>13.0000</td>\n",
       "      <td>S</td>\n",
       "      <td>Second</td>\n",
       "      <td>man</td>\n",
       "      <td>True</td>\n",
       "      <td>Southampton</td>\n",
       "      <td>no</td>\n",
       "      <td>True</td>\n",
       "    </tr>\n",
       "    <tr>\n",
       "      <th>885</th>\n",
       "      <td>1</td>\n",
       "      <td>1</td>\n",
       "      <td>female</td>\n",
       "      <td>19.0</td>\n",
       "      <td>0</td>\n",
       "      <td>0</td>\n",
       "      <td>30.0000</td>\n",
       "      <td>S</td>\n",
       "      <td>First</td>\n",
       "      <td>woman</td>\n",
       "      <td>False</td>\n",
       "      <td>Southampton</td>\n",
       "      <td>yes</td>\n",
       "      <td>True</td>\n",
       "    </tr>\n",
       "    <tr>\n",
       "      <th>886</th>\n",
       "      <td>0</td>\n",
       "      <td>3</td>\n",
       "      <td>female</td>\n",
       "      <td>28.0</td>\n",
       "      <td>1</td>\n",
       "      <td>2</td>\n",
       "      <td>23.4500</td>\n",
       "      <td>S</td>\n",
       "      <td>Third</td>\n",
       "      <td>woman</td>\n",
       "      <td>False</td>\n",
       "      <td>Southampton</td>\n",
       "      <td>no</td>\n",
       "      <td>False</td>\n",
       "    </tr>\n",
       "    <tr>\n",
       "      <th>887</th>\n",
       "      <td>1</td>\n",
       "      <td>1</td>\n",
       "      <td>male</td>\n",
       "      <td>26.0</td>\n",
       "      <td>0</td>\n",
       "      <td>0</td>\n",
       "      <td>30.0000</td>\n",
       "      <td>C</td>\n",
       "      <td>First</td>\n",
       "      <td>man</td>\n",
       "      <td>True</td>\n",
       "      <td>Cherbourg</td>\n",
       "      <td>yes</td>\n",
       "      <td>True</td>\n",
       "    </tr>\n",
       "    <tr>\n",
       "      <th>888</th>\n",
       "      <td>0</td>\n",
       "      <td>3</td>\n",
       "      <td>male</td>\n",
       "      <td>32.0</td>\n",
       "      <td>0</td>\n",
       "      <td>0</td>\n",
       "      <td>7.7500</td>\n",
       "      <td>Q</td>\n",
       "      <td>Third</td>\n",
       "      <td>man</td>\n",
       "      <td>True</td>\n",
       "      <td>Queenstown</td>\n",
       "      <td>no</td>\n",
       "      <td>True</td>\n",
       "    </tr>\n",
       "  </tbody>\n",
       "</table>\n",
       "<p>889 rows × 14 columns</p>\n",
       "</div>"
      ],
      "text/plain": [
       "     survived  pclass     sex   age  sibsp  parch     fare embarked   class  \\\n",
       "0           0       3    male  22.0      1      0   7.2500        S   Third   \n",
       "1           1       1  female  38.0      1      0  71.2833        C   First   \n",
       "2           1       3  female  26.0      0      0   7.9250        S   Third   \n",
       "3           1       1  female  35.0      1      0  53.1000        S   First   \n",
       "4           0       3    male  35.0      0      0   8.0500        S   Third   \n",
       "..        ...     ...     ...   ...    ...    ...      ...      ...     ...   \n",
       "884         0       2    male  27.0      0      0  13.0000        S  Second   \n",
       "885         1       1  female  19.0      0      0  30.0000        S   First   \n",
       "886         0       3  female  28.0      1      2  23.4500        S   Third   \n",
       "887         1       1    male  26.0      0      0  30.0000        C   First   \n",
       "888         0       3    male  32.0      0      0   7.7500        Q   Third   \n",
       "\n",
       "       who  adult_male  embark_town alive  alone  \n",
       "0      man        True  Southampton    no  False  \n",
       "1    woman       False    Cherbourg   yes  False  \n",
       "2    woman       False  Southampton   yes   True  \n",
       "3    woman       False  Southampton   yes  False  \n",
       "4      man        True  Southampton    no   True  \n",
       "..     ...         ...          ...   ...    ...  \n",
       "884    man        True  Southampton    no   True  \n",
       "885  woman       False  Southampton   yes   True  \n",
       "886  woman       False  Southampton    no  False  \n",
       "887    man        True    Cherbourg   yes   True  \n",
       "888    man        True   Queenstown    no   True  \n",
       "\n",
       "[889 rows x 14 columns]"
      ]
     },
     "execution_count": 52,
     "metadata": {},
     "output_type": "execute_result"
    }
   ],
   "source": [
    "# Display the dataset that is now ready for initial analysis\n",
    "df"
   ]
  },
  {
   "cell_type": "markdown",
   "id": "f7027dc5-b4a7-4bb1-83bf-4e2ae80dcd6a",
   "metadata": {},
   "source": [
    "# Exploratory Data Analysis"
   ]
  },
  {
   "cell_type": "code",
   "execution_count": 7,
   "id": "85016c17-014b-4552-a32b-4f2928f9362e",
   "metadata": {},
   "outputs": [
    {
     "name": "stdout",
     "output_type": "stream",
     "text": [
      "The average age of a survivor of the Titanic sinking is: 28.0\n",
      "The average age of a fatality of the Titanic sinking is: 30.0\n",
      "The percentage of survival during the sinking of the Titanic is: 38.0%\n"
     ]
    }
   ],
   "source": [
    "# Calculate and return the average age of a survivor\n",
    "avg_age_of_survivor = df[df['survived'] == 1]['age'].mean().round()\n",
    "\n",
    "print(f\"The average age of a survivor of the Titanic sinking is: {avg_age_of_survivor}\")\n",
    "\n",
    "# Calculate and return the average age of a fatality\n",
    "avg_age_of_fatality = df[df['survived'] == 0]['age'].mean().round()\n",
    "\n",
    "print(f\"The average age of a fatality of the Titanic sinking is: {avg_age_of_fatality}\")\n",
    "\n",
    "# Calculate the proportion of survivors of the total counts of our dataset\n",
    "percentage_survival = df['survived'].sum() / 889\n",
    "print(f\"The percentage of survival during the sinking of the Titanic is: {percentage_survival.round(2) * 100}%\")"
   ]
  },
  {
   "cell_type": "code",
   "execution_count": 8,
   "id": "b23b5de0-c52a-4e2b-85a7-18d80a3fc749",
   "metadata": {},
   "outputs": [
    {
     "name": "stdout",
     "output_type": "stream",
     "text": [
      "The age of the oldest survivor of the Titanic sinking is: 80.0\n",
      "The age of the youngest fatality of the Titanic sinking is: 1.0\n"
     ]
    }
   ],
   "source": [
    "# Calculate and return the age of the oldest survivor of the Titanic\n",
    "oldest_survivor = df[df['survived'] == 1]['age'].max()\n",
    "\n",
    "print(f\"The age of the oldest survivor of the Titanic sinking is: {oldest_survivor}\")\n",
    "\n",
    "# Calculate and return the age of the youngest fatality\n",
    "youngest_fatality = df[df['survived'] == 0]['age'].min()\n",
    "\n",
    "print(f\"The age of the youngest fatality of the Titanic sinking is: {youngest_fatality}\")"
   ]
  },
  {
   "cell_type": "markdown",
   "id": "de4de14f-f611-4804-86ae-d6ad06666adf",
   "metadata": {},
   "source": [
    "## Survival Patterns Across Gender and Age Groups"
   ]
  },
  {
   "cell_type": "code",
   "execution_count": 53,
   "id": "5e5ea37b-bacb-454d-b16b-16720e69cbe5",
   "metadata": {},
   "outputs": [],
   "source": [
    "# Edit labels in columns for better clarity\n",
    "df['who'] = df['who'].map({'man': 'Men', 'woman': 'Women', 'child': 'Children'})"
   ]
  },
  {
   "cell_type": "code",
   "execution_count": 54,
   "id": "2eb49df9-158c-4951-8b21-c4517df7fae2",
   "metadata": {},
   "outputs": [
    {
     "name": "stdout",
     "output_type": "stream",
     "text": [
      "who\n",
      "Men         537\n",
      "Women       269\n",
      "Children     83\n",
      "Name: count, dtype: int64\n",
      "\n",
      "who\n",
      "Women       203\n",
      "Men          88\n",
      "Children     49\n",
      "Name: count, dtype: int64\n",
      "\n",
      "who\n",
      "Children    59.0\n",
      "Men         16.0\n",
      "Women       75.0\n",
      "Name: count, dtype: float64\n"
     ]
    }
   ],
   "source": [
    "# Returns the counts of the number of men, women, and children on board the Titanic\n",
    "passengers = df.value_counts(df['who'])\n",
    "print(passengers)\n",
    "\n",
    "# Returns the counts of those who survived\n",
    "survivors = df[df['survived'] == 1]['who'].value_counts()\n",
    "print(f\"\\n{survivors}\")\n",
    "\n",
    "# Returns the ratio of survival\n",
    "survival_ratio = (survivors / passengers).round(2) * 100\n",
    "print(f\"\\n{survival_ratio}\")"
   ]
  },
  {
   "cell_type": "code",
   "execution_count": 55,
   "id": "bbd4c2bf-8e68-437e-a85f-75a2c38b5a38",
   "metadata": {},
   "outputs": [
    {
     "data": {
      "image/png": "[encoded data removed]",
      "text/plain": [
       "<Figure size 1000x600 with 1 Axes>"
      ]
     },
     "metadata": {},
     "output_type": "display_data"
    }
   ],
   "source": [
    "# Chart displaying the count of men, women, and children aboard the Titanic who survived and died\n",
    "\n",
    "# Create the plot\n",
    "plt.figure(figsize=(10, 6))\n",
    "\n",
    "# Create a bar chart - Sex Vs. Heart Disease\n",
    "sns.countplot(x='who', data=df, hue='alive');\n",
    "\n",
    "# Customize the plot\n",
    "plt.title('Survivors of the Titanic')\n",
    "plt.xlabel('Men, Women, and Children')\n",
    "plt.legend(title='Survival', labels=['Dead', 'Alive'])\n",
    "\n",
    "# Display the plot\n",
    "plt.show()"
   ]
  },
  {
   "cell_type": "markdown",
   "id": "e73adaab-5400-4030-837e-48fd86fd0504",
   "metadata": {},
   "source": [
    "The bar chart titled \"Survivors of the Titanic\" depicts the count of men, women, and children who were on the Titanic. From the visualization, it is evident that:\n",
    "\n",
    "    A significant number of men on the Titanic did not survive, as indicated by the tall blue bar representing deceased males. This suggests that men had a lower survival rate compared to women and children, which may reflect the \"women and children first\" policy that was reportedly followed during the lifeboat evacuations.\n",
    "\n",
    "    Women had a higher survival rate, as shown by the orange bar, which is relatively high in comparison to their blue bar. This again could be attributed to the prioritization of women for evacuation to the lifeboats.\n",
    "\n",
    "    Children also had a relatively high survival rate, as indicated by the balanced height of the orange bar against the blue. This could suggest that children were given priority for lifeboat places alongside women.\n",
    "\n",
    "The data supports historical accounts that women and children were given priority during the evacuation, leading to higher survival rates for these groups. Additionally, the graph could indicate social norms and maritime disaster protocols of the era, which often prioritized the safety of women and children.\n",
    "\n",
    "This analysis could be further enriched by examining the survival rates across different passenger classes, as class played a significant role in the survival of passengers on the Titanic. Furthermore, factors such as the location of cabins relative to lifeboats and the actions of the crew during the evacuation could provide more context to these findings."
   ]
  },
  {
   "cell_type": "markdown",
   "id": "edfc3843-42a3-4657-acb3-961ba116b992",
   "metadata": {},
   "source": [
    "## Survival Rate by Class"
   ]
  },
  {
   "cell_type": "code",
   "execution_count": 12,
   "id": "be32e0f3-09ad-4637-b916-8eb4864f6515",
   "metadata": {},
   "outputs": [
    {
     "name": "stdout",
     "output_type": "stream",
     "text": [
      "class\n",
      "Third     491\n",
      "First     214\n",
      "Second    184\n",
      "Name: count, dtype: int64\n",
      "\n",
      "class\n",
      "First     134\n",
      "Third     119\n",
      "Second     87\n",
      "Name: count, dtype: int64\n",
      "\n",
      "class\n",
      "First     63.0\n",
      "Second    47.0\n",
      "Third     24.0\n",
      "Name: count, dtype: float64\n"
     ]
    }
   ],
   "source": [
    "# Returns the counts of the passengers aboard each class of the Titanic\n",
    "passenger_class = df.value_counts(df['class'])\n",
    "print(passenger_class)\n",
    "\n",
    "\n",
    "# Returns the counts of those who survived in each class\n",
    "survivors = df[df['survived'] == 1]['class'].value_counts()\n",
    "print(f\"\\n{survivors}\")\n",
    "\n",
    "# Returns the ratio of survival\n",
    "survival_ratio = (survivors / passenger_class).round(2) * 100\n",
    "print(f\"\\n{survival_ratio}\")"
   ]
  },
  {
   "cell_type": "code",
   "execution_count": 13,
   "id": "4a929394-201d-467f-9904-26dfb94dad2f",
   "metadata": {},
   "outputs": [
    {
     "data": {
      "image/png": "[encoded data removed]",
      "text/plain": [
       "<Figure size 1000x600 with 1 Axes>"
      ]
     },
     "metadata": {},
     "output_type": "display_data"
    }
   ],
   "source": [
    "# Chart displaying the survivors by class\n",
    "\n",
    "# Create the plot\n",
    "plt.figure(figsize=(10, 6))\n",
    "\n",
    "# Create a bar chart\n",
    "sns.countplot(x='class', data=df, hue='alive');\n",
    "\n",
    "# Customize the plot\n",
    "plt.title('Survival By Class')\n",
    "plt.xlabel('Class')\n",
    "plt.legend(title='Survival', labels=['Dead', 'Alive'])\n",
    "\n",
    "# Display the plot\n",
    "plt.show()"
   ]
  },
  {
   "cell_type": "markdown",
   "id": "63778e32-55bb-4fae-8b29-621a839bc3fe",
   "metadata": {},
   "source": [
    "The chart titled \"Survival By Class\" shows the survival status of passengers on the Titanic, segmented by the class of travel (First, Second, and Third Class). The blue bars represent the number of passengers who did not survive, while the orange bars represent those who did survive within each class.\n",
    "\n",
    "From the chart, we can interpret that:\n",
    "\n",
    "    The highest number of casualties occurred within the Third Class, which could suggest that Third Class passengers had less access to lifeboats or were less prioritized for evacuation compared to those in higher classes.\n",
    "    First Class passengers had a higher survival rate, as indicated by the taller orange bar in comparison to the blue bar in the First Class category. This could imply that First Class passengers had better access to lifeboats, possibly due to their cabins being located on higher decks closer to the lifeboats or due to social hierarchies being observed during the evacuation process.\n",
    "    Second Class passengers had a lower survival rate than First Class but a higher survival rate than Third Class. The number of survivors and casualties in the Second Class is more balanced compared to the other classes.\n",
    "\n",
    "This chart provides insights into the social stratification of the time and how it may have influenced survival chances during the disaster. It suggests that socioeconomic status played a significant role in survival outcomes, a finding that aligns with historical accounts and analyses of the Titanic tragedy. To provide a more comprehensive understanding, further analysis could include the examination of other factors such as age, sex, and crew versus passenger status in conjunction with class."
   ]
  },
  {
   "cell_type": "markdown",
   "id": "b19dcbb0-cc6c-4300-82d4-b2ad5cd6115b",
   "metadata": {},
   "source": [
    "## Survival Rate by Boarding Location"
   ]
  },
  {
   "cell_type": "code",
   "execution_count": 14,
   "id": "cafa3bdd-e3e9-41c5-99e7-6ca13aa1013d",
   "metadata": {},
   "outputs": [
    {
     "name": "stdout",
     "output_type": "stream",
     "text": [
      "embark_town\n",
      "Southampton    644\n",
      "Cherbourg      168\n",
      "Queenstown      77\n",
      "Name: count, dtype: int64\n",
      "\n",
      "embark_town\n",
      "Southampton    217\n",
      "Cherbourg       93\n",
      "Queenstown      30\n",
      "Name: count, dtype: int64\n",
      "\n",
      "embark_town\n",
      "Southampton    34.0\n",
      "Cherbourg      55.0\n",
      "Queenstown     39.0\n",
      "Name: count, dtype: float64\n"
     ]
    }
   ],
   "source": [
    "# Returns the counts of the passengers who boarded the Titanic at the three locations for boarding\n",
    "passenger_origin = df.value_counts(df['embark_town'])\n",
    "print(passenger_origin)\n",
    "\n",
    "# Returns the counts of those who survived departing from each port\n",
    "survivors = df[df['survived'] == 1]['embark_town'].value_counts()\n",
    "print(f\"\\n{survivors}\")\n",
    "\n",
    "# Returns the ratio of survival\n",
    "survival_ratio = (survivors / passenger_origin).round(2) * 100\n",
    "print(f\"\\n{survival_ratio}\")"
   ]
  },
  {
   "cell_type": "code",
   "execution_count": 15,
   "id": "3223f21e-1c34-4e0a-94a1-27441727ddfc",
   "metadata": {},
   "outputs": [
    {
     "data": {
      "image/png": "[encoded data removed]",
      "text/plain": [
       "<Figure size 1000x600 with 1 Axes>"
      ]
     },
     "metadata": {},
     "output_type": "display_data"
    }
   ],
   "source": [
    "# Chart displaying the survivors by where the passengers embarked from\n",
    "\n",
    "# Create the plot\n",
    "plt.figure(figsize=(10, 6))\n",
    "\n",
    "# Create a bar chart\n",
    "sns.countplot(x='embark_town', data=df, hue='alive');\n",
    "\n",
    "# Customize the plot\n",
    "plt.title('Survival By Location of Boarding')\n",
    "plt.xlabel('Location')\n",
    "plt.legend(title='Survival', labels=['Dead', 'Alive'])\n",
    "\n",
    "# Display the plot\n",
    "plt.show()"
   ]
  },
  {
   "cell_type": "markdown",
   "id": "342b8bea-c0e6-4e06-a18f-c7a2973153be",
   "metadata": {},
   "source": [
    "## Determining Statistical Significance of Cherbourg Survival Rate Via Hypothesis Testing"
   ]
  },
  {
   "cell_type": "markdown",
   "id": "b9418500-0b1d-4db8-b7a4-5330125c0180",
   "metadata": {},
   "source": [
    "Null Hypothesis (H0): There is no difference in survival rates for passengers embarking from different locations; any observed difference is due to chance.\n",
    "    \n",
    "Alternative Hypothesis (H1): There is a significant difference in survival rates for passengers embarking from different locations.\n",
    "\n",
    "| Embark Town | Survived | Did Not Survive | Total |\n",
    "|-------------|----------|-----------------|-------|\n",
    "| Southampton | 217      | 427             | 644   |\n",
    "| Cherbourg   | 93       | 75              | 168   |\n",
    "| Queenstown  | 30       | 40              | 77    |\n",
    "| **Total**   | **288**  | **432**         | **720** |\n"
   ]
  },
  {
   "cell_type": "code",
   "execution_count": 16,
   "id": "c738d623-086a-48bb-afe4-e449181168ea",
   "metadata": {},
   "outputs": [
    {
     "data": {
      "text/plain": [
       "array([[248.25396825, 395.74603175],\n",
       "       [ 64.76190476, 103.23809524],\n",
       "       [ 26.98412698,  43.01587302]])"
      ]
     },
     "execution_count": 16,
     "metadata": {},
     "output_type": "execute_result"
    }
   ],
   "source": [
    "# Calculating Expected Counts\n",
    "\n",
    "# Observed counts from the table\n",
    "observed = np.array([\n",
    "    [217, 427],\n",
    "    [93, 75],\n",
    "    [30, 40]\n",
    "])\n",
    "\n",
    "# Totals for each embarkation point and outcomes\n",
    "totals = {\n",
    "    'embark_town_total': np.sum(observed, axis=1),\n",
    "    'outcome_total': np.sum(observed, axis=0),\n",
    "    'grand_total': np.sum(observed)\n",
    "}\n",
    "\n",
    "# Calculate expected counts for each cell in the contingency table\n",
    "expected = np.outer(totals['embark_town_total'], totals['outcome_total']) / totals['grand_total']\n",
    "\n",
    "expected"
   ]
  },
  {
   "cell_type": "code",
   "execution_count": 17,
   "id": "21457ed1-fba8-475a-880f-57e50a921d8a",
   "metadata": {},
   "outputs": [
    {
     "data": {
      "text/plain": [
       "26.987948514075935"
      ]
     },
     "execution_count": 17,
     "metadata": {},
     "output_type": "execute_result"
    }
   ],
   "source": [
    "# Calculating the Chi-squared statistic\n",
    "chi_squared_statistic = np.sum((observed - expected) ** 2 / expected)\n",
    "chi_squared_statistic"
   ]
  },
  {
   "cell_type": "code",
   "execution_count": 18,
   "id": "1e8c916e-6cf8-4071-8f50-f6c377436594",
   "metadata": {},
   "outputs": [
    {
     "data": {
      "text/plain": [
       "1.3792450729911294e-06"
      ]
     },
     "execution_count": 18,
     "metadata": {},
     "output_type": "execute_result"
    }
   ],
   "source": [
    "from scipy.stats import chi2\n",
    "\n",
    "# Degrees of freedom: (Number of rows - 1) * (Number of columns - 1)\n",
    "deg_free = (observed.shape[0] - 1) * (observed.shape[1] - 1)\n",
    "\n",
    "# Calculating the p-value from the chi-squared statistic\n",
    "p_value = chi2.sf(chi_squared_statistic, deg_free)\n",
    "p_value"
   ]
  },
  {
   "cell_type": "markdown",
   "id": "8a873ced-201d-402e-b102-6e88e7ed757a",
   "metadata": {},
   "source": [
    "The p-value calculated from the chi-squared statistic is approximately 1.38×10^-6, which is much lower than the common significance level of 0.05. This leads us to reject the null hypothesis.\n",
    "\n",
    "This indicates that there is a statistically significant difference in survival rates for passengers embarking from different locations, specifically, that the survival rate for passengers who embarked at Cherbourg is significantly different from those who embarked at Southampton and Queenstown."
   ]
  },
  {
   "cell_type": "markdown",
   "id": "d44fef3f-61e2-481e-a6f7-284f9df6bd5c",
   "metadata": {},
   "source": [
    "## Survival With Others vs. Alone"
   ]
  },
  {
   "cell_type": "code",
   "execution_count": 19,
   "id": "09be5d88-919d-4135-b960-e89a102399c6",
   "metadata": {},
   "outputs": [
    {
     "data": {
      "text/plain": [
       "alone\n",
       "True     535\n",
       "False    354\n",
       "Name: count, dtype: int64"
      ]
     },
     "execution_count": 19,
     "metadata": {},
     "output_type": "execute_result"
    }
   ],
   "source": [
    "df['alone'].value_counts()"
   ]
  },
  {
   "cell_type": "code",
   "execution_count": 20,
   "id": "541b54a7-06f2-4ce9-84a6-791d51f1f4f0",
   "metadata": {},
   "outputs": [
    {
     "name": "stdout",
     "output_type": "stream",
     "text": [
      "\n",
      "alone\n",
      "False    179\n",
      "True     161\n",
      "Name: count, dtype: int64\n",
      "\n",
      "alone\n",
      "False    51.0\n",
      "True     30.0\n",
      "Name: count, dtype: float64\n"
     ]
    }
   ],
   "source": [
    "# Returns the counts of the passengers who boarded alone versus with others\n",
    "lone_passenger = df.value_counts(df['alone'])\n",
    "lone_passenger\n",
    "\n",
    "# Returns the counts of those who survived departing from each port\n",
    "survivors = df[df['survived'] == 1]['alone'].value_counts()\n",
    "print(f\"\\n{survivors}\")\n",
    "\n",
    "# Returns the ratio of survival\n",
    "survival_ratio = (survivors / lone_passenger).round(2) * 100\n",
    "print(f\"\\n{survival_ratio}\")"
   ]
  },
  {
   "cell_type": "code",
   "execution_count": 21,
   "id": "5e58ab41-63d2-48fb-bca2-f73bdabbc992",
   "metadata": {},
   "outputs": [
    {
     "data": {
      "image/png": "[encoded data removed]",
      "text/plain": [
       "<Figure size 1000x600 with 1 Axes>"
      ]
     },
     "metadata": {},
     "output_type": "display_data"
    }
   ],
   "source": [
    "# Chart displaying the count of men, women, and children aboard the Titanic who survived and died\n",
    "\n",
    "# Create the plot\n",
    "plt.figure(figsize=(10, 6))\n",
    "\n",
    "# Create a bar chart - Sex Vs. Heart Disease\n",
    "sns.countplot(x='alone', data=df, hue='alive');\n",
    "\n",
    "# Customize the plot\n",
    "plt.title('Survival with Others vs. Alone')\n",
    "plt.xlabel('Lone Passenger')\n",
    "plt.legend(title='Survival', labels=['Dead', 'Alive'])\n",
    "\n",
    "# Display the plot\n",
    "plt.show()"
   ]
  },
  {
   "cell_type": "markdown",
   "id": "4afc059c-29ad-4fee-913b-99f1f4ba1b34",
   "metadata": {},
   "source": [
    "The bar chart titled \"Survival with Others vs. Alone\" compares the survival rates of passengers on the Titanic based on whether they were alone or with others. Here's how we can interpret the chart:\n",
    "\n",
    "    The blue bars represent the number of passengers who did not survive, and the orange bars represent those who did survive.\n",
    "    For passengers who were not alone (False), the number of survivors is slightly higher than the number of those who did not survive.\n",
    "    Conversely, for passengers who were alone (True), the survival rate is significantly lower, as indicated by the significant difference in the blue bar from the orange.\n",
    "\n",
    "This visualization suggests that passengers traveling alone had a significantly lower chance of survival compared to those traveling with family or companions. It could imply that individuals traveling alone may have been forced to wait for the lifeboats, while families were prioritized."
   ]
  },
  {
   "cell_type": "markdown",
   "id": "de498157-63dd-47be-af3f-829037ef4563",
   "metadata": {},
   "source": [
    "## Survival vs. Age"
   ]
  },
  {
   "cell_type": "code",
   "execution_count": 22,
   "id": "231413ea-c068-4df5-b86f-bc5d53fe2af5",
   "metadata": {},
   "outputs": [
    {
     "data": {
      "image/png": "[encoded data removed]",
      "text/plain": [
       "<Figure size 1000x600 with 1 Axes>"
      ]
     },
     "metadata": {},
     "output_type": "display_data"
    }
   ],
   "source": [
    "# Chart displaying the ages of passengers aboard the titanic\n",
    "\n",
    "# Create bins to contain the ages of passengers\n",
    "bins = [0, 5, 10, 15, 20, 25, 30, 35, 40, 45, 50, 55, 60, 65, 70, 75, 80]\n",
    "labels = ['0-5', '5-10', '10-15', '15-20', '20-25', '25-30', '30-35', '35-40', '40-45', '45-50', '50-55', '55-60', '60-65', '65-70', '70-75', '75-80']\n",
    "df['age_bin'] = pd.cut(df['age'], bins=bins, labels=labels, right=False)\n",
    "\n",
    "# Create the plot\n",
    "plt.figure(figsize=(10, 6))\n",
    "\n",
    "# Create a bar chart\n",
    "sns.countplot(x='age_bin', data=df, hue='alive');\n",
    "\n",
    "# Customize the plot\n",
    "plt.title('Survivors of the Titanic by Age')\n",
    "plt.xlabel('Age')\n",
    "plt.legend(title='Survival', labels=['Dead', 'Alive'])\n",
    "\n",
    "# Display the plot\n",
    "plt.show()"
   ]
  },
  {
   "cell_type": "code",
   "execution_count": 23,
   "id": "050df288-982b-4c67-aa92-2b84980a7f7e",
   "metadata": {},
   "outputs": [],
   "source": [
    "# Remove the age bin since it will no longer be needed for analysis\n",
    "df = df.drop('age_bin', axis=1)"
   ]
  },
  {
   "cell_type": "markdown",
   "id": "f44863bf-a0fb-4d6d-8be9-a55a7e2d50f7",
   "metadata": {},
   "source": [
    "The chart titled \"Survivors of the Titanic by Age\" is a bar graph that shows the count of individuals by age group, categorized by survival status — with blue bars representing those who did not survive (labeled \"Dead\") and orange bars representing those who survived (labeled \"Alive\").\n",
    "\n",
    "From the chart, we can observe that:\n",
    "\n",
    "    Younger age groups, particularly children (ages 0-5 and 5-10), had a higher number of survivors compared to non-survivors, indicating a higher survival rate for children.\n",
    "    The age group with the highest number of non-survivors seems to be adults in their 20s to 30s, which may correspond to the largest demographic on board.\n",
    "    For most adult age groups, the number of non-survivors surpasses the number of survivors, which may reflect the overall tragic outcome for the majority of the passengers.\n",
    "    There is a noticeable drop in the count of individuals in the oldest age groups (70-75 and 75-80), which might be due to a smaller number of passengers in those age brackets.\n",
    "\n",
    "This chart suggests that age was a factor in survival, with children being more likely to survive, potentially due to the \"women and children first\" policy during lifeboat loading. The survival rates for other age groups would benefit from further analysis, potentially considering additional factors such as gender, passenger class, and family presence on board."
   ]
  },
  {
   "cell_type": "markdown",
   "id": "db741b47-ed84-414c-b238-a32bb7699eb4",
   "metadata": {},
   "source": [
    "# Machine Learning Model"
   ]
  },
  {
   "cell_type": "code",
   "execution_count": 25,
   "id": "f3e540f8-0fbe-4e29-8f4a-bf142748ee46",
   "metadata": {},
   "outputs": [
    {
     "name": "stdout",
     "output_type": "stream",
     "text": [
      "<class 'pandas.core.frame.DataFrame'>\n",
      "RangeIndex: 889 entries, 0 to 888\n",
      "Data columns (total 14 columns):\n",
      " #   Column       Non-Null Count  Dtype   \n",
      "---  ------       --------------  -----   \n",
      " 0   survived     889 non-null    int64   \n",
      " 1   pclass       889 non-null    int64   \n",
      " 2   sex          889 non-null    object  \n",
      " 3   age          889 non-null    float64 \n",
      " 4   sibsp        889 non-null    int64   \n",
      " 5   parch        889 non-null    int64   \n",
      " 6   fare         889 non-null    float64 \n",
      " 7   embarked     889 non-null    object  \n",
      " 8   class        889 non-null    category\n",
      " 9   who          889 non-null    object  \n",
      " 10  adult_male   889 non-null    bool    \n",
      " 11  embark_town  889 non-null    object  \n",
      " 12  alive        889 non-null    object  \n",
      " 13  alone        889 non-null    bool    \n",
      "dtypes: bool(2), category(1), float64(2), int64(4), object(5)\n",
      "memory usage: 79.3+ KB\n"
     ]
    }
   ],
   "source": [
    "# Examine the data types\n",
    "df.info()"
   ]
  },
  {
   "cell_type": "code",
   "execution_count": 26,
   "id": "5ff703de-adeb-4f71-adba-c36d44580502",
   "metadata": {},
   "outputs": [
    {
     "data": {
      "text/html": [
       "<div>\n",
       "<style scoped>\n",
       "    .dataframe tbody tr th:only-of-type {\n",
       "        vertical-align: middle;\n",
       "    }\n",
       "\n",
       "    .dataframe tbody tr th {\n",
       "        vertical-align: top;\n",
       "    }\n",
       "\n",
       "    .dataframe thead th {\n",
       "        text-align: right;\n",
       "    }\n",
       "</style>\n",
       "<table border=\"1\" class=\"dataframe\">\n",
       "  <thead>\n",
       "    <tr style=\"text-align: right;\">\n",
       "      <th></th>\n",
       "      <th>survived</th>\n",
       "      <th>pclass</th>\n",
       "      <th>sex</th>\n",
       "      <th>age</th>\n",
       "      <th>sibsp</th>\n",
       "      <th>parch</th>\n",
       "      <th>fare</th>\n",
       "      <th>embarked</th>\n",
       "      <th>class</th>\n",
       "      <th>who</th>\n",
       "      <th>adult_male</th>\n",
       "      <th>embark_town</th>\n",
       "      <th>alive</th>\n",
       "      <th>alone</th>\n",
       "    </tr>\n",
       "  </thead>\n",
       "  <tbody>\n",
       "    <tr>\n",
       "      <th>0</th>\n",
       "      <td>0</td>\n",
       "      <td>3</td>\n",
       "      <td>male</td>\n",
       "      <td>22.0</td>\n",
       "      <td>1</td>\n",
       "      <td>0</td>\n",
       "      <td>7.2500</td>\n",
       "      <td>S</td>\n",
       "      <td>Third</td>\n",
       "      <td>man</td>\n",
       "      <td>True</td>\n",
       "      <td>Southampton</td>\n",
       "      <td>no</td>\n",
       "      <td>False</td>\n",
       "    </tr>\n",
       "    <tr>\n",
       "      <th>1</th>\n",
       "      <td>1</td>\n",
       "      <td>1</td>\n",
       "      <td>female</td>\n",
       "      <td>38.0</td>\n",
       "      <td>1</td>\n",
       "      <td>0</td>\n",
       "      <td>71.2833</td>\n",
       "      <td>C</td>\n",
       "      <td>First</td>\n",
       "      <td>woman</td>\n",
       "      <td>False</td>\n",
       "      <td>Cherbourg</td>\n",
       "      <td>yes</td>\n",
       "      <td>False</td>\n",
       "    </tr>\n",
       "    <tr>\n",
       "      <th>2</th>\n",
       "      <td>1</td>\n",
       "      <td>3</td>\n",
       "      <td>female</td>\n",
       "      <td>26.0</td>\n",
       "      <td>0</td>\n",
       "      <td>0</td>\n",
       "      <td>7.9250</td>\n",
       "      <td>S</td>\n",
       "      <td>Third</td>\n",
       "      <td>woman</td>\n",
       "      <td>False</td>\n",
       "      <td>Southampton</td>\n",
       "      <td>yes</td>\n",
       "      <td>True</td>\n",
       "    </tr>\n",
       "  </tbody>\n",
       "</table>\n",
       "</div>"
      ],
      "text/plain": [
       "   survived  pclass     sex   age  sibsp  parch     fare embarked  class  \\\n",
       "0         0       3    male  22.0      1      0   7.2500        S  Third   \n",
       "1         1       1  female  38.0      1      0  71.2833        C  First   \n",
       "2         1       3  female  26.0      0      0   7.9250        S  Third   \n",
       "\n",
       "     who  adult_male  embark_town alive  alone  \n",
       "0    man        True  Southampton    no  False  \n",
       "1  woman       False    Cherbourg   yes  False  \n",
       "2  woman       False  Southampton   yes   True  "
      ]
     },
     "execution_count": 26,
     "metadata": {},
     "output_type": "execute_result"
    }
   ],
   "source": [
    "# Look at the data frame\n",
    "df.head(3)"
   ]
  },
  {
   "cell_type": "code",
   "execution_count": 27,
   "id": "5901f47f-336e-458f-8e05-0a33c27050b7",
   "metadata": {},
   "outputs": [],
   "source": [
    "# Drop the 'embark_town' and 'class' columns since the 'embarked' and 'pclass' columns contain abbreviated versions of the same\n",
    "# information and will be less resource-intensive to encode\n",
    "# Drop the 'alive' column as it is redundant since this dataset has the 'survived' column in binary already\n",
    "df= df.drop(['embark_town', 'class', 'alive'], axis = 1)"
   ]
  },
  {
   "cell_type": "code",
   "execution_count": 28,
   "id": "bd4f2231-e7cb-4563-9fbf-b1a0b6c21228",
   "metadata": {},
   "outputs": [],
   "source": [
    "# Map 'male' to 0 and 'female' to 1\n",
    "df['sex'] = df['sex'].map({'male': 0, 'female': 1})\n",
    "\n",
    "# Convert 'adult_male' to binary\n",
    "df['adult_male'] = df['adult_male'].astype(int)\n",
    "\n",
    "# Convert 'alone' to binary\n",
    "df['alone'] = df['alone'].astype(int)"
   ]
  },
  {
   "cell_type": "code",
   "execution_count": 29,
   "id": "6e562e26-ac6b-4894-86ec-159f22cf624a",
   "metadata": {},
   "outputs": [],
   "source": [
    "# Create an X and Y for training\n",
    "X = df.drop('survived', axis=1)\n",
    "\n",
    "y = df['survived']"
   ]
  },
  {
   "cell_type": "code",
   "execution_count": 30,
   "id": "0f70bd8c-b627-4a50-b4d6-2e00b8bfa9c6",
   "metadata": {},
   "outputs": [],
   "source": [
    "# Encode the 'pclass', 'embarked' and 'who' so that the dataset will be ready for machine learning\n",
    "from sklearn.preprocessing import OneHotEncoder\n",
    "from sklearn.compose import ColumnTransformer\n",
    "\n",
    "# Create a list of categorical features\n",
    "cat_features = ['pclass', 'embarked', 'who']\n",
    "\n",
    "# Encode data\n",
    "one_hot = OneHotEncoder()\n",
    "transformer = ColumnTransformer([('one_hot',\n",
    "                                  one_hot,\n",
    "                                  cat_features)],\n",
    "                                remainder='passthrough')\n",
    "\n",
    "transformed_X = transformer.fit_transform(X)"
   ]
  },
  {
   "cell_type": "code",
   "execution_count": 39,
   "id": "60072cc1-d7f6-49bd-a58e-8363bb7f7d4d",
   "metadata": {},
   "outputs": [],
   "source": [
    "# Split into training and test \n",
    "from sklearn.model_selection import train_test_split\n",
    "\n",
    "X_train, X_test, y_train, y_test = train_test_split(transformed_X,\n",
    "                                                    y,\n",
    "                                                    test_size=0.15)\n",
    "\n",
    "# Build Machine Learning Model\n",
    "from sklearn.ensemble import RandomForestClassifier\n",
    "clf = RandomForestClassifier()\n",
    "\n",
    "# Fit the data to the model\n",
    "clf.fit(X_train, y_train);"
   ]
  },
  {
   "cell_type": "code",
   "execution_count": 40,
   "id": "ddb0824a-44b2-4b14-a069-821d5d7e8c59",
   "metadata": {},
   "outputs": [
    {
     "data": {
      "text/plain": [
       "0.8507462686567164"
      ]
     },
     "execution_count": 40,
     "metadata": {},
     "output_type": "execute_result"
    }
   ],
   "source": [
    "clf.score(X_test, y_test)"
   ]
  },
  {
   "cell_type": "markdown",
   "id": "45e761d1-987f-4f24-8f63-2e5e90f0ee4a",
   "metadata": {},
   "source": [
    "## Improve the model"
   ]
  },
  {
   "cell_type": "code",
   "execution_count": 41,
   "id": "4833e588-cd9c-4b16-bc77-9419d4cc24d9",
   "metadata": {},
   "outputs": [
    {
     "name": "stdout",
     "output_type": "stream",
     "text": [
      "Trying model with 10 estimators\n",
      "Model accuracy on test set: 81.343284%\n",
      "\n",
      "Trying model with 20 estimators\n",
      "Model accuracy on test set: 83.582090%\n",
      "\n",
      "Trying model with 30 estimators\n",
      "Model accuracy on test set: 83.582090%\n",
      "\n",
      "Trying model with 40 estimators\n",
      "Model accuracy on test set: 85.820896%\n",
      "\n",
      "Trying model with 50 estimators\n",
      "Model accuracy on test set: 85.074627%\n",
      "\n",
      "Trying model with 60 estimators\n",
      "Model accuracy on test set: 85.820896%\n",
      "\n",
      "Trying model with 70 estimators\n",
      "Model accuracy on test set: 84.328358%\n",
      "\n",
      "Trying model with 80 estimators\n",
      "Model accuracy on test set: 84.328358%\n",
      "\n",
      "Trying model with 90 estimators\n",
      "Model accuracy on test set: 85.074627%\n",
      "\n"
     ]
    }
   ],
   "source": [
    "# Use different number of estimators\n",
    "\n",
    "np.random.seed(40)\n",
    "\n",
    "for i in range(10, 100, 10):\n",
    "    print(f\"Trying model with {i} estimators\")\n",
    "    clf = RandomForestClassifier(n_estimators=i).fit(X_train,y_train)\n",
    "    print(f\"Model accuracy on test set: {clf.score(X_test, y_test) * 100:2f}%\")\n",
    "    print(\"\")"
   ]
  },
  {
   "cell_type": "code",
   "execution_count": 42,
   "id": "57b790b8-d49e-4307-bd15-f1d2f5d46989",
   "metadata": {},
   "outputs": [
    {
     "name": "stdout",
     "output_type": "stream",
     "text": [
      "The highest performing model has been achieved with 90 estimators.\n",
      "Model accuracy on test set: 85.07%\n"
     ]
    }
   ],
   "source": [
    "print(\"The highest performing model has been achieved with 90 estimators.\")\n",
    "clf = RandomForestClassifier(n_estimators=90).fit(X_train,y_train)\n",
    "print(f\"Model accuracy on test set: {(clf.score(X_test, y_test) * 100).round(2)}%\")"
   ]
  },
  {
   "cell_type": "markdown",
   "id": "4ab5fe24-59c6-464f-8083-52d2fd6ce49d",
   "metadata": {},
   "source": [
    "### Cross Validation"
   ]
  },
  {
   "cell_type": "code",
   "execution_count": 43,
   "id": "ac3d0aa4-d162-45c8-aecf-d1826cf69500",
   "metadata": {},
   "outputs": [
    {
     "data": {
      "text/plain": [
       "array([0.80337079, 0.81460674, 0.78089888, 0.82022472, 0.80225989])"
      ]
     },
     "execution_count": 43,
     "metadata": {},
     "output_type": "execute_result"
    }
   ],
   "source": [
    "from sklearn.model_selection import cross_val_score\n",
    "from sklearn.model_selection import KFold\n",
    "\n",
    "# Create a k-fold cross-validation iterator\n",
    "kf = KFold(n_splits=5, shuffle=True, random_state=1)\n",
    "\n",
    "# Perform cross-validation\n",
    "cv_scores = cross_val_score(clf, transformed_X, y, cv=kf)\n",
    "\n",
    "# The cv_scores contains an array of k validation scores\n",
    "cv_scores"
   ]
  },
  {
   "cell_type": "code",
   "execution_count": 44,
   "id": "b5447b52-4eba-49ff-a884-b34b14667f1c",
   "metadata": {},
   "outputs": [
    {
     "name": "stdout",
     "output_type": "stream",
     "text": [
      "Mean cross-validation score: 0.80\n",
      "Standard deviation of cross-validation score: 0.01\n"
     ]
    }
   ],
   "source": [
    "# Analyze the results\n",
    "mean_score = cv_scores.mean()\n",
    "std_deviation = cv_scores.std()\n",
    "\n",
    "print(f'Mean cross-validation score: {mean_score:.2f}')\n",
    "print(f'Standard deviation of cross-validation score: {std_deviation:.2f}')"
   ]
  },
  {
   "cell_type": "markdown",
   "id": "f9513bcd-7748-4393-a115-5d205a110d01",
   "metadata": {},
   "source": [
    "The cross-validation process conducted on the Titanic dataset indicates a robust model performance. With a mean cross-validation score of 0.80, the model demonstrates a high level of accuracy in predicting outcomes across different subsets of the data. Moreover, the standard deviation of the cross-validation score is 0.01, which is quite low. This low variance suggests that the model's predictive performance is consistent across different folds; it does not fluctuate much with respect to the data it's trained and tested on. This consistency is a positive sign of the model's reliability and indicates good generalizability when applied to new data. The results of this cross-validation give us confidence that the model is not overfitted to the particular quirks of the dataset and should perform well when making predictions in a real-world setting or on unseen data."
   ]
  },
  {
   "cell_type": "markdown",
   "id": "b4398770-be56-4471-bf30-ec8b4ae0f440",
   "metadata": {},
   "source": [
    "## Features Analysis"
   ]
  },
  {
   "cell_type": "code",
   "execution_count": 15,
   "id": "99912f96-ee64-46d8-87f4-d3d032fbeaf0",
   "metadata": {},
   "outputs": [
    {
     "name": "stdout",
     "output_type": "stream",
     "text": [
      "<class 'pandas.core.frame.DataFrame'>\n",
      "RangeIndex: 889 entries, 0 to 888\n",
      "Data columns (total 11 columns):\n",
      " #   Column      Non-Null Count  Dtype  \n",
      "---  ------      --------------  -----  \n",
      " 0   survived    889 non-null    int64  \n",
      " 1   pclass      889 non-null    int64  \n",
      " 2   sex         889 non-null    int64  \n",
      " 3   age         889 non-null    float64\n",
      " 4   sibsp       889 non-null    int64  \n",
      " 5   parch       889 non-null    int64  \n",
      " 6   fare        889 non-null    float64\n",
      " 7   embarked    889 non-null    object \n",
      " 8   who         889 non-null    object \n",
      " 9   adult_male  889 non-null    int32  \n",
      " 10  alone       889 non-null    int32  \n",
      "dtypes: float64(2), int32(2), int64(5), object(2)\n",
      "memory usage: 69.6+ KB\n"
     ]
    }
   ],
   "source": [
    "# View data types of current data frame\n",
    "df.info()"
   ]
  },
  {
   "cell_type": "code",
   "execution_count": 16,
   "id": "27b04370-e799-4a87-a48d-f43b75cf49ed",
   "metadata": {},
   "outputs": [],
   "source": [
    "# Remove objects from data frame for a correlational analysis\n",
    "df = df.drop(['embarked', 'who'], axis = 1)"
   ]
  },
  {
   "cell_type": "code",
   "execution_count": 17,
   "id": "77e27142-42f5-4217-8054-6ab03f172394",
   "metadata": {},
   "outputs": [
    {
     "data": {
      "image/png": "[encoded data removed]",
      "text/plain": [
       "<Figure size 1500x1000 with 2 Axes>"
      ]
     },
     "metadata": {},
     "output_type": "display_data"
    }
   ],
   "source": [
    "# Create a heatmap to examine correlations between features\n",
    "plt.figure(figsize=(15,10))\n",
    "sns.heatmap(df.corr(), annot=True, xticklabels = True, yticklabels=True, cmap=\"YlGnBu\", linewidth=.5);"
   ]
  },
  {
   "cell_type": "markdown",
   "id": "9c236348-7f61-4396-bcd9-9f9c98ce8ebf",
   "metadata": {},
   "source": [
    "The above correlational heatmap visualizes the Pearson correlation coefficients between various features within the Titanic dataset. These coefficients range from -1 to 1, where -1 indicates a perfect negative correlation, 1 indicates a perfect positive correlation, and 0 indicates no linear correlation. Based upon this heatmap it can be concluded that:\n",
    "\n",
    "    Survived vs. Sex: There is a positive correlation (approximately 0.54), suggesting that being female (sex coded as 1 for female and 0 for male) increased the likelihood of survival on the Titanic.\n",
    "\n",
    "    Survived vs. Pclass: There is a negative correlation (approximately -0.34), indicating that passengers in higher classes (where 1st class is numerically lower) had a higher survival rate.\n",
    "\n",
    "    Survived vs. Fare: A positive correlation of 0.26 shows that passengers who paid more for their tickets, likely those in higher classes, had better survival chances.\n",
    "\n",
    "    Survived vs. Adult Male: There is a strong negative correlation (approximately -0.56), suggesting that adult males had a lower survival rate.\n",
    "\n",
    "    Survived vs. Alone: There is a negative correlation (approximately -0.21), indicating that passengers who were alone had a slightly lower chance of survival compared to those with family or companions.\n",
    "\n",
    "    Age vs. Pclass: A negative correlation (approximately -0.34) suggests that younger passengers tended to be in higher classes.\n",
    "\n",
    "    Fare vs. Pclass: A strong negative correlation (approximately -0.55) confirms that higher classes (numerically lower) were associated with higher fares.\n",
    "\n",
    "    Pclass vs. Adult Male: A positive correlation (approximately 0.09) is relatively weak but indicates that adult males were more common in lower classes.\n",
    "\n",
    "    Alone vs. Pclass: A negative correlation (approximately -0.31) suggests that passengers in higher classes were less likely to be traveling alone.\n",
    "\n",
    "These correlations help us understand the dynamics of survival on the Titanic. For instance, gender and class were major factors, with women and upper-class passengers more likely to survive. The negative correlation between 'Adult Male' and 'Survived' aligns with historical accounts that women and children were given priority for lifeboats. The correlations involving 'Fare' suggest that socio-economic status played a significant role in survival chances, with higher-paying passengers getting better access to life-saving resources."
   ]
  },
  {
   "cell_type": "markdown",
   "id": "7ddb3db7-39a0-400d-9df1-2e3a1c6c1a74",
   "metadata": {},
   "source": [
    "# Conclusion"
   ]
  },
  {
   "cell_type": "markdown",
   "id": "41752482-3b3d-467d-831c-738542ef3533",
   "metadata": {},
   "source": [
    "This exploration of the Titanic dataset has provided us with valuable insights into the factors that influenced survival during the tragic sinking of the ship. Through meticulous data cleaning, encoding categorical variables, and extensive exploratory data analysis, we identified key patterns and relationships within the data.\n",
    "\n",
    "The survival patterns across different passenger classes revealed a stark disparity, with First Class passengers having a notably higher survival rate than those in Third Class. This observation suggests that socio-economic status played a crucial role in the likelihood of survival, a reflection of the social hierarchies of the time.\n",
    "\n",
    "Further analysis on the embarkation points showed that passengers who boarded the Titanic at Cherbourg had a significantly higher survival rate compared to those who boarded at Southampton and Queenstown. A hypothesis test confirmed that this difference was statistically significant, indicating that the port of embarkation was more than just a trivial detail in the story of survival.\n",
    "\n",
    "We also examined the survival rates based on whether passengers were traveling alone or with companions. As was expected, passengers who traveled with family and companions had a survival rate had a much higher survival rate, prompting a discussion on the influence of social bonds and responsibilities during times of crisis.\n",
    "\n",
    "The age-based analysis painted a poignant picture of survival, with children having a higher likelihood of survival, likely due to prioritization during lifeboat evacuations. The grim reality for most adult passengers, especially those in their prime years, was highlighted by the higher mortality rates within these age groups.\n",
    "\n",
    "The project's findings underscore the complex interplay of social norms, class, and human behavior in crisis situations. It also showcases the power of data analysis and machine learning in uncovering historical truths and patterns that can inform our understanding of past and present phenomena.\n",
    "\n",
    "As we close this chapter of analysis, we reflect on the Titanic not just as a maritime disaster, but as a microcosm of early 20th-century society. The data tells a story of human nature, societal structures, and the randomness of survival, leaving us with lessons that resonate far beyond the cold waters of the North Atlantic."
   ]
  }
 ],
 "metadata": {
  "kernelspec": {
   "display_name": "Python 3 (ipykernel)",
   "language": "python",
   "name": "python3"
  },
  "language_info": {
   "codemirror_mode": {
    "name": "ipython",
    "version": 3
   },
   "file_extension": ".py",
   "mimetype": "text/x-python",
   "name": "python",
   "nbconvert_exporter": "python",
   "pygments_lexer": "ipython3",
   "version": "3.12.0"
  }
 },
 "nbformat": 4,
 "nbformat_minor": 5
}
